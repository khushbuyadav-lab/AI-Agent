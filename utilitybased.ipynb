{
  "nbformat": 4,
  "nbformat_minor": 0,
  "metadata": {
    "colab": {
      "provenance": [],
      "authorship_tag": "ABX9TyPxvT8+9kKvRW9rsRfguyUr",
      "include_colab_link": true
    },
    "kernelspec": {
      "name": "python3",
      "display_name": "Python 3"
    },
    "language_info": {
      "name": "python"
    }
  },
  "cells": [
    {
      "cell_type": "markdown",
      "metadata": {
        "id": "view-in-github",
        "colab_type": "text"
      },
      "source": [
        "<a href=\"https://colab.research.google.com/github/khushbuyadav-lab/AI-Agent/blob/main/utilitybased.ipynb\" target=\"_parent\"><img src=\"https://colab.research.google.com/assets/colab-badge.svg\" alt=\"Open In Colab\"/></a>"
      ]
    },
    {
      "cell_type": "code",
      "execution_count": 3,
      "metadata": {
        "colab": {
          "base_uri": "https://localhost:8080/"
        },
        "id": "bMJQoNyD_55F",
        "outputId": "4bdbd5a9-fc78-427b-d610-34938e143c60"
      },
      "outputs": [
        {
          "output_type": "stream",
          "name": "stdout",
          "text": [
            "Starting at Arad, goal is Bucharest\n",
            "At Arad, moving to next best city...\n",
            "At Sibiu, moving to next best city...\n",
            "At Fagaras, moving to next best city...\n",
            "Reached Bucharest!\n",
            "Path: Arad -> Sibiu -> Fagaras -> Bucharest\n"
          ]
        }
      ],
      "source": [
        "romania_map = {\n",
        "    'Arad': ['Zerind', 'Sibiu', 'Timisoara'],\n",
        "    'Zerind': ['Arad', 'Oradea'],\n",
        "    'Oradea': ['Zerind', 'Sibiu'],\n",
        "    'Sibiu': ['Arad', 'Oradea', 'Fagaras'],\n",
        "    'Fagaras': ['Sibiu', 'Bucharest'],\n",
        "    'Timisoara': ['Arad'],\n",
        "    'Bucharest': []\n",
        "}\n",
        "\n",
        "# Simple heuristic (distance to Bucharest)\n",
        "heuristic = {\n",
        "    'Arad': 366,\n",
        "    'Zerind': 374,\n",
        "    'Oradea': 380,\n",
        "    'Sibiu': 253,\n",
        "    'Fagaras': 176,\n",
        "    'Timisoara': 329,\n",
        "    'Bucharest': 0\n",
        "}\n",
        "\n",
        "class SimpleUtilityAgent:\n",
        "    def __init__(self, environment, heuristic, start, goal):\n",
        "        self.env = environment\n",
        "        self.heuristic = heuristic\n",
        "        self.current = start\n",
        "        self.goal = goal\n",
        "        self.path = [start]\n",
        "\n",
        "    def next_move(self):\n",
        "        if self.current == self.goal:\n",
        "            return None\n",
        "        neighbors = self.env[self.current]\n",
        "        # Pick neighbor with smallest heuristic (closest to goal)\n",
        "        next_city = min(neighbors, key=lambda city: self.heuristic[city])\n",
        "        return next_city\n",
        "\n",
        "    def move(self):\n",
        "        next_city = self.next_move()\n",
        "        if next_city:\n",
        "            self.current = next_city\n",
        "            self.path.append(next_city)\n",
        "\n",
        "    def run(self):\n",
        "        print(f\"Starting at {self.current}, goal is {self.goal}\")\n",
        "        while self.current != self.goal:\n",
        "            print(f\"At {self.current}, moving to next best city...\")\n",
        "            self.move()\n",
        "        print(f\"Reached {self.goal}!\")\n",
        "        print(\"Path:\", \" -> \".join(self.path))\n",
        "\n",
        "# Run example\n",
        "agent = SimpleUtilityAgent(romania_map, heuristic, start='Arad', goal='Bucharest')\n",
        "agent.run()"
      ]
    }
  ]
}